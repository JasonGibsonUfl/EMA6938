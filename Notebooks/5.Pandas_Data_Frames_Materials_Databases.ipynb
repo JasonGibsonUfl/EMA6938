{
 "cells": [
  {
   "cell_type": "markdown",
   "id": "aefb4d72-7d06-4b58-82fd-997ded60fb6c",
   "metadata": {},
   "source": [
    "# Pandas Data Frames and Materials Databases\n",
    "\n",
    "[![Open In Colab](https://colab.research.google.com/assets/colab-badge.svg)](https://colab.research.google.com/github/rhennig/EMA6938/blob/main/Notebooks/5.Pandas_Data_Frames_Materials_Databases.ipynb)\n",
    "\n",
    "(Based on the matminer tutorials from https://github.com/hackingmaterials/matminer_examples)\n",
    "\n",
    "This notebook introduces the Panda Data Frames library. We will learn how to easily load and manipulate data, from selecting or replacing columns and indices to reshaping the data.\n",
    "\n",
    "This notebook also illustrates how we can interface with the Materials Project (MP) database. We will use the MP data retrieval tool :code:`retrieve_MP.py` to retrieve computed bulk moduli in the form of a pandas dataframe, then apply matminer's tools to populate the dataframe with descriptors/features from pymatgen, and finally fit a linear regression model from the scikit-learn library to the dataset.\n",
    "\n",
    "## Overview\n",
    "\n",
    "In this notebook, we will:\n",
    "1. Load and examine a dataset in a pandas dataframe\n",
    "2. Add descriptors to the dataframe using matminer\n",
    "3. Train, compare, and visualize two machine learning methods with scikit-learn and Plotly."
   ]
  },
  {
   "cell_type": "markdown",
   "id": "8a75ec8b-8715-4852-8bc0-28f1a5e37cf9",
   "metadata": {},
   "source": [
    "## 1. Load and process data set\n",
    "\n",
    "We use matminer to load a data set of computed elastic properties of materials from MaterialsProject.\n",
    "\n",
    "### First load needed Python packages"
   ]
  },
  {
   "cell_type": "code",
   "execution_count": 3,
   "id": "df0f1343-704c-41e2-961f-a3b2da28ff9c",
   "metadata": {},
   "outputs": [],
   "source": [
    "# Import numpy and pandas dataframes\n",
    "import numpy as np\n",
    "import pandas as pd\n",
    "\n",
    "# Set pandas view options\n",
    "pd.set_option('display.width', 800)\n",
    "pd.set_option('display.max_columns', None)\n",
    "pd.set_option('display.max_rows', None)\n",
    "\n",
    "# Set path for saved images\n",
    "#import os\n",
    "#if not os.path.exists(\"images\"):\n",
    "#    os.mkdir(\"images\")"
   ]
  },
  {
   "cell_type": "markdown",
   "id": "06302d63-6dca-4d1e-8e1d-6e0845bd8bb7",
   "metadata": {},
   "source": [
    "### Pandas data structures\n",
    "\n",
    "Pandas provides two types of data structures: **Series** and **DataFrames**:\n",
    "\n",
    "- A **Series** is a one dimensional data structure (“a one dimensional ndarray”) that can store values — and for every value it holds a unique index.\n",
    "\n",
    "- A **DataFrame** is a two (or more) dimensional data structure – basically a table with rows and columns. The columns have names and the rows have indexes."
   ]
  },
  {
   "cell_type": "code",
   "execution_count": 4,
   "id": "1947ca0d-5755-4b2d-838f-6603793a42e4",
   "metadata": {},
   "outputs": [
    {
     "ename": "NameError",
     "evalue": "name 'test_set_series' is not defined",
     "output_type": "error",
     "traceback": [
      "\u001b[0;31m---------------------------------------------------------------------------\u001b[0m",
      "\u001b[0;31mNameError\u001b[0m                                 Traceback (most recent call last)",
      "\u001b[0;32m/var/folders/4n/n4j1d7sd4bq5_h54mhjlkfy80000gp/T/ipykernel_26308/1784008402.py\u001b[0m in \u001b[0;36m<module>\u001b[0;34m\u001b[0m\n\u001b[0;32m----> 1\u001b[0;31m \u001b[0mtest_set_series\u001b[0m\u001b[0;34m\u001b[0m\u001b[0;34m\u001b[0m\u001b[0m\n\u001b[0m",
      "\u001b[0;31mNameError\u001b[0m: name 'test_set_series' is not defined"
     ]
    }
   ],
   "source": [
    "test_set_series"
   ]
  },
  {
   "cell_type": "code",
   "execution_count": null,
   "id": "e08811b5-2353-4062-a769-fa768397ae57",
   "metadata": {},
   "outputs": [],
   "source": []
  }
 ],
 "metadata": {
  "kernelspec": {
   "display_name": "Python 3 (ipykernel)",
   "language": "python",
   "name": "python3"
  },
  "language_info": {
   "codemirror_mode": {
    "name": "ipython",
    "version": 3
   },
   "file_extension": ".py",
   "mimetype": "text/x-python",
   "name": "python",
   "nbconvert_exporter": "python",
   "pygments_lexer": "ipython3",
   "version": "3.8.12"
  }
 },
 "nbformat": 4,
 "nbformat_minor": 5
}
