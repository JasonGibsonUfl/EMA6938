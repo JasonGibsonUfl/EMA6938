{
 "cells": [
  {
   "cell_type": "markdown",
   "id": "d48f3a94-b0aa-4ee9-8659-f4f99157e2ca",
   "metadata": {},
   "source": [
    "# NumPy\n",
    "\n",
    "Numpy is the core library for scientific computing in Python. It provides a high-performance multidimensional array object, and tools for working with these arrays. If you are already familiar with MATLAB, you might find this [tutorial](http://wiki.scipy.org/NumPy_for_Matlab_Users) useful to get started with Numpy.\n",
    "\n",
    "To use Numpy, we first need to import the numpy package:"
   ]
  },
  {
   "cell_type": "markdown",
   "id": "feb3a879-4f16-4067-9048-61ec62cdf289",
   "metadata": {},
   "source": [
    "import numpy as np"
   ]
  },
  {
   "cell_type": "markdown",
   "id": "9bd3c26e-4aa2-498e-a973-41eb7d5d6d6a",
   "metadata": {},
   "source": [
    "## 1. NumPy Arrays\n",
    "A numpy array is a grid of values, all of the same type. Numpy arrays, like Python arrays, are indexed starting from zero. The number of dimensions is the rank of the array. The shape of an array is a tuple of integers giving the size of the array along each dimension."
   ]
  },
  {
   "cell_type": "markdown",
   "id": "86f6d1f7-96ba-4827-9f36-5b5a27d012ba",
   "metadata": {},
   "source": [
    "We can initialize numpy arrays from nested Python lists, and access elements using square brackets:"
   ]
  },
  {
   "cell_type": "code",
   "execution_count": 9,
   "id": "6af22848-69cc-4887-89e4-aea9109842b5",
   "metadata": {},
   "outputs": [
    {
     "name": "stdout",
     "output_type": "stream",
     "text": [
      "<class 'numpy.ndarray'> (3,) 1 2 3\n",
      "[5 2 3]\n"
     ]
    }
   ],
   "source": [
    "a = np.array([1, 2, 3])  # Create a rank 1 array\n",
    "print(type(a), a.shape, a[0], a[1], a[2])\n",
    "a[0] = 5                 # Change an element of the array\n",
    "print(a)"
   ]
  },
  {
   "cell_type": "code",
   "execution_count": 10,
   "id": "533fbb70-cb22-4ff4-84f4-f0c584e26fb0",
   "metadata": {},
   "outputs": [
    {
     "name": "stdout",
     "output_type": "stream",
     "text": [
      "[[1 2 3]\n",
      " [4 5 6]]\n"
     ]
    }
   ],
   "source": [
    "b = np.array([[1,2,3],[4,5,6]])   # Create a rank 2 array\n",
    "print(b)"
   ]
  },
  {
   "cell_type": "code",
   "execution_count": 11,
   "id": "a25f907a-4a55-4170-86a0-b7d2a32cd1ad",
   "metadata": {},
   "outputs": [
    {
     "name": "stdout",
     "output_type": "stream",
     "text": [
      "(2, 3)\n",
      "1 2 4\n"
     ]
    }
   ],
   "source": [
    "print(b.shape)\n",
    "print(b[0, 0], b[0, 1], b[1, 0])"
   ]
  },
  {
   "cell_type": "markdown",
   "id": "4bae46d6-c15f-4d47-92a2-526afac5a56e",
   "metadata": {},
   "source": [
    "Numpy also provides many functions to create arrays:"
   ]
  },
  {
   "cell_type": "code",
   "execution_count": 12,
   "id": "3fbc5ad2-487a-4c77-bba2-09577b934803",
   "metadata": {},
   "outputs": [
    {
     "name": "stdout",
     "output_type": "stream",
     "text": [
      "[[0. 0.]\n",
      " [0. 0.]]\n"
     ]
    }
   ],
   "source": [
    "a = np.zeros((2,2))  # Create an array of all zeros\n",
    "print(a)"
   ]
  },
  {
   "cell_type": "code",
   "execution_count": 13,
   "id": "70337192-65d2-4631-a64e-09c441cdbf3d",
   "metadata": {},
   "outputs": [
    {
     "name": "stdout",
     "output_type": "stream",
     "text": [
      "[[7 7]\n",
      " [7 7]]\n"
     ]
    }
   ],
   "source": [
    "c = np.full((2,2), 7) # Create a constant array\n",
    "print(c)"
   ]
  },
  {
   "cell_type": "code",
   "execution_count": 14,
   "id": "1351290f-0014-4508-a14a-2a92798473e5",
   "metadata": {},
   "outputs": [
    {
     "name": "stdout",
     "output_type": "stream",
     "text": [
      "[[1. 0.]\n",
      " [0. 1.]]\n"
     ]
    }
   ],
   "source": [
    "d = np.eye(2)        # Create a 2x2 identity matrix\n",
    "print(d)"
   ]
  },
  {
   "cell_type": "code",
   "execution_count": 15,
   "id": "3372edd1-3b84-402b-872a-8436777dd118",
   "metadata": {},
   "outputs": [
    {
     "name": "stdout",
     "output_type": "stream",
     "text": [
      "[[0.59202174 0.26682461]\n",
      " [0.38666785 0.92548979]]\n"
     ]
    }
   ],
   "source": [
    "e = np.random.random((2,2)) # Create an array filled with random values\n",
    "print(e)"
   ]
  },
  {
   "cell_type": "markdown",
   "id": "9c761e79-e5ca-4621-96ab-c48fcf26c519",
   "metadata": {},
   "source": [
    "### Slicing\n",
    "In addition to accessing array elements one at a time, Python provides concise syntax to access subarrays. This is known as slicing:"
   ]
  },
  {
   "cell_type": "code",
   "execution_count": 28,
   "id": "76154232-4c32-477e-8c1f-75b0697d4cb8",
   "metadata": {},
   "outputs": [
    {
     "name": "stdout",
     "output_type": "stream",
     "text": [
      "[0 1 2 3 4]\n",
      "[2 3]\n",
      "[2 3 4]\n",
      "[0 1 8 9 4]\n"
     ]
    }
   ],
   "source": [
    "nums = np.arange(5)   # arange is a numpy function that creates an array with evenly spaced values within a given interval\n",
    "print(nums)           # Prints \"[0, 1, 2, 3, 4]\"\n",
    "print(nums[2:4])      # Get a slice from index 2 to 4 (exclusive); prints \"[2, 3]\"\n",
    "print(nums[2:])       # Get a slice from index 2 to the end; prints \"[2, 3, 4]\"\n",
    "nums[2:4] = [8, 9]    # Assign a new sublist to a slice\n",
    "print(nums)           # Prints \"[0, 1, 8, 9, 4]\""
   ]
  },
  {
   "cell_type": "markdown",
   "id": "d7f9177e-e24a-4766-af08-bd2c98d697d4",
   "metadata": {},
   "source": [
    "We can also change the shape of arrays:"
   ]
  },
  {
   "cell_type": "code",
   "execution_count": 29,
   "id": "7b37271b-1fe6-428e-a519-c5b494b4a0a3",
   "metadata": {},
   "outputs": [
    {
     "name": "stdout",
     "output_type": "stream",
     "text": [
      "[[ 0  1  2  3]\n",
      " [ 4  5  6  7]\n",
      " [ 8  9 10 11]]\n"
     ]
    }
   ],
   "source": [
    "nums = np.arange(12)\n",
    "print (nums.reshape((3, 4)))"
   ]
  },
  {
   "cell_type": "markdown",
   "id": "2d23908a-83e5-494d-b6c9-5fedb7a49a90",
   "metadata": {},
   "source": [
    "Let's practice:\n",
    "- Use the np.arange function to create a rank 1 numpy array with entries going from 1 to 20\n",
    "- The respape the array into a 2x10 array of rank 2"
   ]
  },
  {
   "cell_type": "code",
   "execution_count": 30,
   "id": "60f8cc44-9b52-4f36-9fc6-7b91b091ade0",
   "metadata": {},
   "outputs": [],
   "source": [
    "# Create the array\n",
    "\n",
    "# Reshape the array\n"
   ]
  },
  {
   "cell_type": "markdown",
   "id": "109c5dd4-0491-4e9c-a41e-ff5f18ef32d4",
   "metadata": {},
   "source": [
    "### Boolean array indexing\n",
    "Boolean array indexing lets you pick out arbitrary elements of an array. Frequently this type of indexing is used to select the elements of an array that satisfy some condition. Here is an example:"
   ]
  },
  {
   "cell_type": "code",
   "execution_count": 37,
   "id": "f9098fe6-d4c0-4c6c-a4be-15b73974a40a",
   "metadata": {},
   "outputs": [
    {
     "name": "stdout",
     "output_type": "stream",
     "text": [
      "[[1 2]\n",
      " [3 4]\n",
      " [5 6]]\n",
      "[[False False]\n",
      " [ True  True]\n",
      " [ True  True]]\n"
     ]
    }
   ],
   "source": [
    "a = np.arange(1,7,1).reshape((3,2))\n",
    "print(a)\n",
    "\n",
    "bool_idx = (a > 2)  # Find the elements of a that are bigger than 2;\n",
    "                    # this returns a numpy array of Booleans of the same\n",
    "                    # shape as a, where each slot of bool_idx tells\n",
    "                    # whether that element of a is > 2.\n",
    "\n",
    "print(bool_idx)"
   ]
  },
  {
   "cell_type": "code",
   "execution_count": 38,
   "id": "f4106aef-7cff-4d37-a59e-b7ee02a8dd40",
   "metadata": {},
   "outputs": [
    {
     "name": "stdout",
     "output_type": "stream",
     "text": [
      "[3 4 5 6]\n",
      "[3 4 5 6]\n"
     ]
    }
   ],
   "source": [
    "# We use boolean array indexing to construct a rank 1 array\n",
    "# consisting of the elements of a corresponding to the True values\n",
    "# of bool_idx\n",
    "print(a[bool_idx])"
   ]
  },
  {
   "cell_type": "code",
   "execution_count": 39,
   "id": "5e844283-cd86-4e16-9dea-5f627bbb34a6",
   "metadata": {},
   "outputs": [
    {
     "name": "stdout",
     "output_type": "stream",
     "text": [
      "[3 4 5 6]\n"
     ]
    }
   ],
   "source": [
    "# We can do all of the above in a single concise statement:\n",
    "print(a[a > 2])"
   ]
  },
  {
   "cell_type": "code",
   "execution_count": null,
   "id": "39b71096-1c27-41e6-891b-fb5bd26e369d",
   "metadata": {},
   "outputs": [],
   "source": []
  }
 ],
 "metadata": {
  "kernelspec": {
   "display_name": "Python 3 (ipykernel)",
   "language": "python",
   "name": "python3"
  },
  "language_info": {
   "codemirror_mode": {
    "name": "ipython",
    "version": 3
   },
   "file_extension": ".py",
   "mimetype": "text/x-python",
   "name": "python",
   "nbconvert_exporter": "python",
   "pygments_lexer": "ipython3",
   "version": "3.8.12"
  }
 },
 "nbformat": 4,
 "nbformat_minor": 5
}
