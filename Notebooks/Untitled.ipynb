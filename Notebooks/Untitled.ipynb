{
 "cells": [
  {
   "cell_type": "code",
   "execution_count": 5,
   "id": "8eba6c44-e240-4742-a836-34c991a565b7",
   "metadata": {},
   "outputs": [
    {
     "name": "stdout",
     "output_type": "stream",
     "text": [
      "[[ 1 -4]\n",
      " [-2  1]]\n",
      "[[0 3]\n",
      " [5 8]]\n"
     ]
    },
    {
     "data": {
      "text/plain": [
       "-7"
      ]
     },
     "execution_count": 5,
     "metadata": {},
     "output_type": "execute_result"
    }
   ],
   "source": [
    "import numpy as np\n",
    "\n",
    "A = np.array([[1, -4], [-2,1 ]])\n",
    "B = np.array([[0, 3], [5, 8]])\n",
    "print(A)\n",
    "print(B)\n",
    "(A-B)[0,1]"
   ]
  },
  {
   "cell_type": "code",
   "execution_count": 3,
   "id": "67155b0d-09d4-4647-b9d6-0489154f516c",
   "metadata": {},
   "outputs": [
    {
     "data": {
      "text/plain": [
       "9"
      ]
     },
     "execution_count": 3,
     "metadata": {},
     "output_type": "execute_result"
    }
   ],
   "source": [
    "(A+B)[1,1]"
   ]
  },
  {
   "cell_type": "code",
   "execution_count": 4,
   "id": "441f6e18-b0a0-4665-b03b-d17b4edc55ae",
   "metadata": {},
   "outputs": [
    {
     "data": {
      "text/plain": [
       "5"
      ]
     },
     "execution_count": 4,
     "metadata": {},
     "output_type": "execute_result"
    }
   ],
   "source": [
    "(A@B)[1,0]"
   ]
  },
  {
   "cell_type": "code",
   "execution_count": null,
   "id": "3f694d52-cb8c-4f81-9ebb-aa7557bb3ea9",
   "metadata": {},
   "outputs": [],
   "source": []
  }
 ],
 "metadata": {
  "kernelspec": {
   "display_name": "Python 3 (ipykernel)",
   "language": "python",
   "name": "python3"
  },
  "language_info": {
   "codemirror_mode": {
    "name": "ipython",
    "version": 3
   },
   "file_extension": ".py",
   "mimetype": "text/x-python",
   "name": "python",
   "nbconvert_exporter": "python",
   "pygments_lexer": "ipython3",
   "version": "3.8.12"
  }
 },
 "nbformat": 4,
 "nbformat_minor": 5
}
