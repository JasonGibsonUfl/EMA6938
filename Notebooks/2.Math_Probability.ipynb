{
 "cells": [
  {
   "cell_type": "markdown",
   "metadata": {},
   "source": [
    "# Math - Probability and Statistics\n",
    "\n",
    "[![Open In Colab](https://colab.research.google.com/assets/colab-badge.svg)](https://colab.research.google.com/github/rhennig/EMA6938/blob/main/Notebooks/2.Math_Probability.ipynb)\n",
    "\n",
    "Probability and Statistics are the foundation of Data Science. In fact, the underlying principles of machine learning and artificial intelligence are nothing but statistics, linear algebra, and differential calculus.\n",
    "\n",
    "**Probability** is the branch of mathematics concerning numerical descriptions of how likely an event is to occur, or how likely it is that a proposition is true. **Statistics** is the discipline that concerns the collection, organization, analysis, interpretation, and presentation of data.\n",
    "\n",
    "In this tutorial, we will\n",
    "- Learn about probability rules and terms like random variables, probability distributions functions\n",
    "- Learn about different probability distributions functions along with some of their properties.\n",
    "- Learn to create and plot these distributions in python.\n",
    "\n",
    "**Sources:** This notebook uses materials from the hackerearth statistics tutorial https://www.hackerearth.com/practice/machine-learning/, the datacamp tutorial on probability https://www.datacamp.com/community/tutorials/probability-distributions-python., and the lecture notes from Probability Theory for Machine Learning\n",
    "by Chris Cremer, https://www.cs.toronto.edu/~urtasun/courses/CSC411_Fall16/tutorial1.pdf."
   ]
  },
  {
   "cell_type": "markdown",
   "metadata": {
    "colab_type": "text",
    "id": "ChS5BE53XXYr"
   },
   "source": [
    "### Preliminaries\n",
    "Import the plotting and image packages."
   ]
  },
  {
   "cell_type": "code",
   "execution_count": 1,
   "metadata": {
    "colab_type": "text",
    "id": "ChS5BE53XXYr",
    "jupyter": {
     "source_hidden": true
    },
    "tags": []
   },
   "outputs": [
    {
     "name": "stdout",
     "output_type": "stream",
     "text": [
      "Requirement already satisfied: vennfig in /Users/rhennig/opt/anaconda3/envs/tf2/lib/python3.8/site-packages (0.2.3)\n",
      "Requirement already satisfied: matplotlib-venn in /Users/rhennig/opt/anaconda3/envs/tf2/lib/python3.8/site-packages (from vennfig) (0.11.6)\n",
      "Requirement already satisfied: matplotlib in /Users/rhennig/opt/anaconda3/envs/tf2/lib/python3.8/site-packages (from vennfig) (3.4.3)\n",
      "Requirement already satisfied: kiwisolver>=1.0.1 in /Users/rhennig/opt/anaconda3/envs/tf2/lib/python3.8/site-packages (from matplotlib->vennfig) (1.3.2)\n",
      "Requirement already satisfied: pillow>=6.2.0 in /Users/rhennig/opt/anaconda3/envs/tf2/lib/python3.8/site-packages (from matplotlib->vennfig) (8.3.2)\n",
      "Requirement already satisfied: pyparsing>=2.2.1 in /Users/rhennig/opt/anaconda3/envs/tf2/lib/python3.8/site-packages (from matplotlib->vennfig) (2.4.7)\n",
      "Requirement already satisfied: cycler>=0.10 in /Users/rhennig/opt/anaconda3/envs/tf2/lib/python3.8/site-packages (from matplotlib->vennfig) (0.11.0)\n",
      "Requirement already satisfied: python-dateutil>=2.7 in /Users/rhennig/opt/anaconda3/envs/tf2/lib/python3.8/site-packages (from matplotlib->vennfig) (2.8.2)\n",
      "Requirement already satisfied: numpy>=1.16 in /Users/rhennig/opt/anaconda3/envs/tf2/lib/python3.8/site-packages (from matplotlib->vennfig) (1.19.5)\n",
      "Requirement already satisfied: scipy in /Users/rhennig/opt/anaconda3/envs/tf2/lib/python3.8/site-packages (from matplotlib-venn->vennfig) (1.7.3)\n",
      "Requirement already satisfied: six>=1.5 in /Users/rhennig/opt/anaconda3/envs/tf2/lib/python3.8/site-packages (from python-dateutil>=2.7->matplotlib->vennfig) (1.15.0)\n",
      "Requirement already satisfied: seaborn in /Users/rhennig/opt/anaconda3/envs/tf2/lib/python3.8/site-packages (0.11.2)\n",
      "Requirement already satisfied: matplotlib>=2.2 in /Users/rhennig/opt/anaconda3/envs/tf2/lib/python3.8/site-packages (from seaborn) (3.4.3)\n",
      "Requirement already satisfied: pandas>=0.23 in /Users/rhennig/opt/anaconda3/envs/tf2/lib/python3.8/site-packages (from seaborn) (1.3.5)\n",
      "Requirement already satisfied: numpy>=1.15 in /Users/rhennig/opt/anaconda3/envs/tf2/lib/python3.8/site-packages (from seaborn) (1.19.5)\n",
      "Requirement already satisfied: scipy>=1.0 in /Users/rhennig/opt/anaconda3/envs/tf2/lib/python3.8/site-packages (from seaborn) (1.7.3)\n",
      "Requirement already satisfied: pyparsing>=2.2.1 in /Users/rhennig/opt/anaconda3/envs/tf2/lib/python3.8/site-packages (from matplotlib>=2.2->seaborn) (2.4.7)\n",
      "Requirement already satisfied: kiwisolver>=1.0.1 in /Users/rhennig/opt/anaconda3/envs/tf2/lib/python3.8/site-packages (from matplotlib>=2.2->seaborn) (1.3.2)\n",
      "Requirement already satisfied: cycler>=0.10 in /Users/rhennig/opt/anaconda3/envs/tf2/lib/python3.8/site-packages (from matplotlib>=2.2->seaborn) (0.11.0)\n",
      "Requirement already satisfied: pillow>=6.2.0 in /Users/rhennig/opt/anaconda3/envs/tf2/lib/python3.8/site-packages (from matplotlib>=2.2->seaborn) (8.3.2)\n",
      "Requirement already satisfied: python-dateutil>=2.7 in /Users/rhennig/opt/anaconda3/envs/tf2/lib/python3.8/site-packages (from matplotlib>=2.2->seaborn) (2.8.2)\n",
      "Requirement already satisfied: pytz>=2017.3 in /Users/rhennig/opt/anaconda3/envs/tf2/lib/python3.8/site-packages (from pandas>=0.23->seaborn) (2021.3)\n",
      "Requirement already satisfied: six>=1.5 in /Users/rhennig/opt/anaconda3/envs/tf2/lib/python3.8/site-packages (from python-dateutil>=2.7->matplotlib>=2.2->seaborn) (1.15.0)\n"
     ]
    }
   ],
   "source": [
    "# Install the venngig package using pip in the current Jupyter kernel\n",
    "# To use vennfig, you may need to restart the kernel\n",
    "import sys\n",
    "!{sys.executable} -m pip install vennfig\n",
    "!{sys.executable} -m pip install seaborn\n",
    "import vennfig as v\n",
    "from IPython.display import Image\n",
    "from IPython.core.display import HTML"
   ]
  },
  {
   "cell_type": "markdown",
   "metadata": {
    "colab_type": "text",
    "id": "ChS5BE53XXYr",
    "tags": []
   },
   "source": [
    "## 1. Motivation\n",
    "Uncertainty arises from:\n",
    "- Noisy measurements\n",
    "- Finite size of data sets\n",
    "- Ambiguity: The word bank can mean (1) a financial institution, (2) the side of a river, or (3) tilting an airplane. Which meaning was intended, based on the words that appear nearby?\n",
    "- Limited Model Complexity\n",
    "\n",
    "Probability theory provides a consistent framework for the quantification\n",
    "and manipulation of uncertainty. It enables optimal predictions given all the information available, even though that information may be incomplete or ambiguous."
   ]
  },
  {
   "cell_type": "markdown",
   "metadata": {
    "colab_type": "text",
    "id": "ChS5BE53XXYr",
    "tags": []
   },
   "source": [
    "## 2. Terminology for probability, events, and sample space\n",
    "\n",
    "<img src=\"https://upload.wikimedia.org/wikipedia/commons/thumb/1/15/Coin_Toss_%283635981474%29.jpg/440px-Coin_Toss_%283635981474%29.jpg\" alt=\"Coin Flip\" align=\"right\" style=\"width: 200px;float: right;\"/>\n",
    "\n",
    "The **probability** gives the information about how likely an event can occur. The probability of an event is a number between 0 and 1, where, roughly speaking, 0 indicates impossibility of the event and 1 indicates certainty. The higher the probability of an event, the more likely it is that the event will occur.\n",
    "\n",
    "The **sample space** Ω is the set of possible outcomes of an experiment. Points ω in Ω are called **sample outcomes**, realizations, or elements. Subsets of Ω are called **events**.\n",
    "\n",
    "Example: If we toss a coin twice then the sample space is Ω = {HH, HT, TH, TT}. The event that the first toss is heads is A = {HH, HT}.\n",
    "\n",
    "We say that events $A_1$ and $A_2$ are **disjoint** (mutually exclusive) if $A_i ∩ A_j = \\{\\}$.\n",
    "\n",
    "Example: First flip being heads and first flip being tails are disjoint events."
   ]
  },
  {
   "cell_type": "markdown",
   "metadata": {
    "colab_type": "text",
    "id": "ChS5BE53XXYr",
    "tags": []
   },
   "source": [
    "## 3. Basic probability calculation\n",
    "\n",
    "As per the definition, if $A$ is an event of an experiment and it contains $n$ outcomes and Ω is the sample space then the probability of $A$ is\n",
    "$$\n",
    "P(A) = \\sum_{i=1}^n P(E_i),\n",
    "$$\n",
    "where $E_1 \\dots E_n$ are the outcomes in $A$. If all the outcomes of the experiment are equally likely then\n",
    "\n",
    "$$\n",
    "P(A) = \\frac{\\text {No. of outcomes in A}}{\\text{No. of outcomes in Ω}}.\n",
    "$$\n",
    "\n",
    "Hence the value of probability is between 0 and 1. As the sample space is the whole possible set of outcomes, $P(S) = 1.$"
   ]
  },
  {
   "cell_type": "markdown",
   "metadata": {},
   "source": [
    "**Complement of A:** Complement of an event $A$ means not($A$). Probability of complement event of $A$ means the probability of all the outcomes in sample space other than the ones in $A$. Denoted by $A^c$ and\n",
    "$$\n",
    "P(A^c) = 1 - P(A).\n",
    "$$"
   ]
  },
  {
   "cell_type": "code",
   "execution_count": 2,
   "metadata": {
    "jupyter": {
     "source_hidden": true
    },
    "tags": []
   },
   "outputs": [
    {
     "data": {
      "image/png": "[encoded data removed]",
      "text/plain": [
       "<Figure size 1080x1080 with 2 Axes>"
      ]
     },
     "metadata": {},
     "output_type": "display_data"
    }
   ],
   "source": [
    "v.complement(title_a='Event A', title_b='Complement of Event A', set_a='A', set_b=\"A'\")"
   ]
  },
  {
   "cell_type": "markdown",
   "metadata": {},
   "source": [
    "**Union and Intersection:** The union of two events $A$ and $B$ is the combination of all outcomes contained in the events. The intersection of two events $A$ and $B$ is the set of outcomes of $A$ that also belong to $B$.\n",
    "\n",
    "The probability of intersection of two events $A$ and $B$ is $P(A\\cap B)$. When event $A$ occurs in union with event $B$ then the probability together is defined as\n",
    "$$\n",
    "P(A \\cup B) = P(A) + P(B)- P(A \\cap B),\n",
    "$$\n",
    "which is also known as the **addition rule of probability**."
   ]
  },
  {
   "cell_type": "code",
   "execution_count": 3,
   "metadata": {
    "jupyter": {
     "source_hidden": true
    },
    "tags": []
   },
   "outputs": [
    {
     "data": {
      "image/png": "[encoded data removed]",
      "text/plain": [
       "<Figure size 432x432 with 1 Axes>"
      ]
     },
     "metadata": {},
     "output_type": "display_data"
    },
    {
     "data": {
      "image/png": "[encoded data removed]",
      "text/plain": [
       "<Figure size 432x432 with 1 Axes>"
      ]
     },
     "metadata": {},
     "output_type": "display_data"
    }
   ],
   "source": [
    "v.true_false(subs=2, size=6, bg_color='white', title_a='Union of A and B')\n",
    "v.and_nand(subs=2, size=6, fill_color='#f55faa', bg_color='white', \n",
    "         title_a='Intersection of events A and B')"
   ]
  },
  {
   "cell_type": "markdown",
   "metadata": {
    "colab_type": "text",
    "id": "ChS5BE53XXYr"
   },
   "source": [
    "**Mutually exclusive:** Any two events are mutually exclusive, meaning they cannot both happen at the same time, when they have non-overlapping outcomes. If $A$ and $B$ are two mutually exclusive events then,\n",
    "$P(A \\cap B) = 0$. From the addition rule of probability\n",
    "$P(A \\cup B) = P(A) + P(B)$ as $A$ and $B$ are disjoint or mutually exclusive events."
   ]
  },
  {
   "cell_type": "code",
   "execution_count": 4,
   "metadata": {
    "colab_type": "text",
    "id": "ChS5BE53XXYr",
    "jupyter": {
     "source_hidden": true
    },
    "tags": []
   },
   "outputs": [
    {
     "data": {
      "image/png": "[encoded data removed]",
      "text/plain": [
       "<Figure size 432x432 with 1 Axes>"
      ]
     },
     "metadata": {},
     "output_type": "display_data"
    }
   ],
   "source": [
    "v.mut_exclusive(size=6, title='A ∩ B = 0')"
   ]
  },
  {
   "cell_type": "markdown",
   "metadata": {
    "colab_type": "text",
    "id": "ChS5BE53XXYr"
   },
   "source": [
    "**Independent:** Any two events are independent of each other if one has zero effect on the other, *i.e.*, the occurrence of one event doe not affect the occurrence of the other. If $A$ and $B$ are two independent events then, \n",
    "$$\n",
    "P(A \\cap B) = P(A)\\, P(B).\n",
    "$$"
   ]
  },
  {
   "cell_type": "markdown",
   "metadata": {
    "colab_type": "text",
    "id": "ChS5BE53XXYr"
   },
   "source": [
    "## 4. Joint, Marginal, and Conditional Probabilities\n",
    "\n",
    "https://machinelearningmastery.com/joint-marginal-and-conditional-probability-for-machine-learning/\n",
    "\n",
    "In machine learning, we often have many random variables that interact in often complex and unknown ways.\n",
    "\n",
    "There are specific techniques that can be used to quantify the probability for multiple random variables, such as the marginal, joint, and conditional probability. These techniques provide the basis for a probabilistic understanding of fitting a predictive model to data.\n",
    "\n",
    "- **Marginal probability**, $P(A)$, is the probability of an event, $A$, occuring irrespective of the outcome of other events.\n",
    "- **Joint probability**, $P(AB)$, is the probability of two events, $A$ and $B$, occurring simultaneously.\n",
    "- **Conditional probability**, $P(A|B)$, is the probability of one event, $A$, given a second event, $B$."
   ]
  },
  {
   "cell_type": "markdown",
   "metadata": {
    "colab_type": "text",
    "id": "ChS5BE53XXYr"
   },
   "source": [
    "### Probabilities Rules\n",
    "- Assuming that $P(B) > 0$, the conditional probability of $A$ given $B$:\n",
    "$$\n",
    "P(A|B)=P(AB)/P(B)\n",
    "$$\n",
    "- Product rule for joint probability:\n",
    "$$\n",
    "P(AB) = P(A|B)P(B) = P(B|A)P(A)\n",
    "$$\n",
    "- Two events $A$ and $B$ are **independent** if the joint probability is the product of the marginals\n",
    "$$\n",
    "P(AB) = P(A)P(B)\n",
    "$$\n",
    "\n",
    "### Example:\n",
    "- 80% of students pass the final and 60% pass both the final and the midterm.\n",
    "- What percent of students who passed the final also passed the midterm?"
   ]
  },
  {
   "cell_type": "markdown",
   "metadata": {
    "colab_type": "text",
    "id": "ChS5BE53XXYr"
   },
   "source": [
    "- Reworded: What percent of students passed the midterm given they passed the final?\n",
    "$$\n",
    "P(M|F) = P(MF) / P(F) = 0.60 / 0.80 = 0.75\n",
    "$$"
   ]
  },
  {
   "cell_type": "markdown",
   "metadata": {
    "colab_type": "text",
    "id": "ChS5BE53XXYr"
   },
   "source": [
    "### Sum Rule and Law of Total Probability\n",
    "- Sum Rule (Marginalization)\n",
    "$$\n",
    "P(A) = \\sum_B P(AB)\n",
    "$$\n",
    "\n",
    "- Law of Total Probability\n",
    "$$\n",
    "P(A) = \\sum_B P(A|B) \\, P(B)\n",
    "$$"
   ]
  },
  {
   "cell_type": "markdown",
   "metadata": {
    "colab_type": "text",
    "id": "ChS5BE53XXYr"
   },
   "source": [
    "<img src=\"https://upload.wikimedia.org/wikipedia/commons/d/d4/Thomas_Bayes.gif\" alt=\"Thomas Bayes\" align=\"right\" style=\"width: 200px;float: right;\"/>\n",
    "\n",
    "## 5. Bayes' Theorem\n",
    "Bayes' Theorem describes the probability of an event, based on prior knowledge of conditions that might be related to the event. It is named after Thomas Bayes, an English Statistician, Philosopher, Presbyterian Minister living from 1701 to 1761. Bayes' work was published after his dead by Richard Price, who edited and corrected Bayes' manuscript. The modern formulation of Bayes theorem was devised by Pierre-Simon Laplace in 1774, who was unaware of Bayes' work.\n",
    "\n",
    "Bayes' theorem states\n",
    "$$\n",
    "P(H|E) = \\frac{P(H)\\, P(E|H)}{P(E)}.\n",
    "$$\n",
    "\n",
    "\n",
    "We are interested in calculating the probability $P(H|E)$, which is the conditional probability the hypthesis, H, is true given the evidence, E. It is called the **posterior probability**.\n",
    "\n",
    "<img src=\"https://upload.wikimedia.org/wikipedia/commons/thumb/1/18/Bayes%27_Theorem_MMB_01.jpg/1600px-Bayes%27_Theorem_MMB_01.jpg\" alt=\"Neon sign of Bayes theorem\" align=\"right\" style=\"width: 200px;float: right;\"/>\n",
    "\n",
    "The probability $P(E|H)$ is the probability of seeing the evidence, if the hypothesis is true. It is called the **likelihood**.\n",
    "\n",
    "The probabilities $P(H)$ is the probability the hypothesis is true before any evidence is present. This marginal probability of call the **prior**.\n",
    "\n",
    "The probability $P(B)$ is the probability of observing the evidence E."
   ]
  },
  {
   "cell_type": "markdown",
   "metadata": {
    "colab_type": "text",
    "id": "ChS5BE53XXYr"
   },
   "source": [
    "### Example of Bayes' Theorem: Sensitivity and Specificity\n",
    "\n",
    "Bayes' theorem elegantly demonstrates the effect of false positives and false negatives in medical tests.\n",
    "\n",
    "**Sensitivity** is the true positive rate. It measures the fraction of correctly identified positives. In a Covid-19 test, it is be the percentage of people with a positive test who have Covid. A sensitive test rarely misses a positive.\n",
    "\n",
    "**Specificity** is the true negative rate. It measures the fraction of correctly identified negatives. In a Covid-19 test, it is be the percentage of people with a negative test who do not have Covid. A specific test rarely registers a false positive.\n",
    "\n",
    "A perfect test would be 100 percent sensitive and specific. In reality, tests have a minimum error called the Bayes error rate.\n",
    "\n",
    "For example, consider a Covid-19 test that is 90% sensitive and 80% specific. If 5% of people have Covid-19, what is the probability a random person with a positive test actually has Covid?"
   ]
  },
  {
   "cell_type": "code",
   "execution_count": 5,
   "metadata": {
    "colab_type": "text",
    "id": "ChS5BE53XXYr"
   },
   "outputs": [
    {
     "name": "stdout",
     "output_type": "stream",
     "text": [
      "Probability of a random person with a positive test having Covid =  19.1 %\n"
     ]
    }
   ],
   "source": [
    "# P is the event of a positive test and C is event of having Covid\n",
    "P_C    = 0.05  # Percentage of population that has Covid\n",
    "P_PC   = 0.90  # Sensitivity or true positive rate. The probability of having Covid when the test was positive.\n",
    "P_PcCc = 0.80  # Specificity or true negative rate. The probability of not having Covid when the test was negative.\n",
    "\n",
    "P_PCc  = 1 - P_PcCc  # False positive rate. Probability of having Covid when the test was negative. \n",
    "\n",
    "# We use the Law of Total Probability to calculate the denominator of Bayes' Theorem P(E),\n",
    "# the probability of having a postive test\n",
    "P_P = P_PC * P_C + P_PCc * (1-P_C)\n",
    "\n",
    "# Bayes Theorem\n",
    "P_CP = P_C * P_PC / P_P\n",
    "\n",
    "print(\"Probability of a random person with a positive test having Covid = \", round(P_CP*100,1), \"%\")"
   ]
  },
  {
   "cell_type": "markdown",
   "metadata": {
    "colab_type": "text",
    "id": "ChS5BE53XXYr"
   },
   "source": [
    "Questions:\n",
    "1) How does this probability change when Covid is more prevalent, like 20 % of the population?\n",
    "2) What happens for very rare diseases that only occur for 1 in 10,000 people for the same test accuracy?"
   ]
  },
  {
   "cell_type": "markdown",
   "metadata": {
    "colab_type": "text",
    "id": "ChS5BE53XXYr"
   },
   "source": [
    "## 6. Random Variables\n",
    "\n",
    "### Discrete and Continuous Random Variables\n",
    "\n",
    "A random variable is a variable whose possible values are numerical outcomes of a random phenomenon. \n",
    "\n",
    "Example: Flip a coin ten times. Let X(ω) be the number of heads in the sequence ω. If ω = HHTHHTHHTT, then X(ω) = 6.\n",
    "\n",
    "There are two types of random variables, discrete and continuous.\n",
    "\n",
    "A **discrete random variable** takes on only a countable number of distinct values and thus can be quantized.\n",
    "\n",
    "Example:\n",
    "- The number that comes up when you roll a fair dice. X can take values : [1, 2, 3, 4, 5, 6].\n",
    "- The number of heads coming up when rolling a dice a fixed number of times.\n",
    "\n",
    "A **continuous random variable** can take on infinitely many values and is described by a real number.\n",
    "\n",
    "Example:\n",
    "- Time taken to accomplish task.\n",
    "- Height of graduate students in MSE."
   ]
  },
  {
   "cell_type": "markdown",
   "metadata": {
    "colab_type": "text",
    "id": "ChS5BE53XXYr"
   },
   "source": [
    "### Probability Distribution\n",
    "\n",
    "A probability distribution is the mathematical function that gives the probabilities of occurrence of different possible outcomes for an experiment.\n",
    "\n",
    "<img src=\"https://upload.wikimedia.org/wikipedia/commons/thumb/8/85/Discrete_probability_distrib.svg/640px-Discrete_probability_distrib.svg.png\" alt=\"Probability distribution\" align=\"right\" style=\"width: 200px;float: right;\"/>\n",
    "\n",
    "The **probability distribution of a discrete random variable** is a list of probabilities associated with each of its possible values. It is also sometimes called the probability function or the probability mass function. An example is shown on the right for a random variable describing three possible events.\n",
    "\n",
    "Suppose a random variable $X$ takes $k$ different values, with the probability that $X = x_i$ given by $P(x_i) = p_i$. The probabilities $p_i$ must satisfy\n",
    "\n",
    "1) $0 < p_i < 1$ for each i\n",
    "2) $\\sum_{i=1}^k p_i = 1$.\n",
    "\n",
    "Examples of discrete probability distributions are the Bernoulli, Binomial, and Poisson distribution."
   ]
  },
  {
   "cell_type": "markdown",
   "metadata": {
    "colab_type": "text",
    "id": "ChS5BE53XXYr"
   },
   "source": [
    "<img src=\"https://upload.wikimedia.org/wikipedia/commons/thumb/8/8c/Standard_deviation_diagram.svg/640px-Standard_deviation_diagram.svg.png\" alt=\"Probability distribution function\" align=\"right\" style=\"width: 200px;float: right;\"/>\n",
    "\n",
    "A continuous random variable is defined over an interval of values. The **probability distribution of a continuous random variable**, known as probability distribution functions, are the functions that take on continuous values. The example of a normal or Gaussian probability distribution function is shown on the right.\n",
    "\n",
    "The probability of observing any single value is equal to 0 since the number of values which may be assumed by the random variable is infinite. \n",
    "\n",
    "A random variable $X$ may take all values over an interval of real numbers. Then the probability $P(A)$ that $X$ is in the set of outcomes $A$ is defined to be the area in the curve over the set $A$.\n",
    "\n",
    "The curve, which represents a function $p(x)$, must satisfy the following:\n",
    "1) The curve has no negative values (p(x)>0 for all x\n",
    "2) The total area under the curve is equal to 1, $\\int p(x) dx = 1$.\n",
    "\n",
    "Some examples of continuous probability distributions are normal the distribution, exponential, and beta distribution.\n",
    "\n",
    "There’s another type of distribution that is relevant for random variables, the cumulative distribution function. All random variables (discrete and continuous) have a cumulative distribution function. It is a function giving the probability that the random variable $X$ is less or equal than $x$, for every value $x$. For a discrete random variable, the cumulative distribution function is found by summing up the probabilities. For continuous random variables, it is given by the integral from $-\\infty$ to $x$.\n",
    "\n",
    "<img src=\"https://upload.wikimedia.org/wikipedia/commons/thumb/5/54/Combined_Cumulative_Distribution_Graphs.png/800px-Combined_Cumulative_Distribution_Graphs.png\" alt=\"Probability distribution function\" align=\"center\" style=\"width: 600px;float: center;\"/>\n",
    "The left figure shows the probability distribution function (pdf) $f(x)$ and the right one shows the cummulative distribution function (cdf) $F(x) = \\int_{-\\infty^x} p(x') dx'$."
   ]
  },
  {
   "cell_type": "markdown",
   "metadata": {
    "colab_type": "text",
    "id": "ChS5BE53XXYr"
   },
   "source": [
    "In the next section, we will explore some important distributions and try to work them out in python. First we need to import the necessary libraries."
   ]
  },
  {
   "cell_type": "code",
   "execution_count": 6,
   "metadata": {},
   "outputs": [],
   "source": [
    "# For inline plots in jupyter\n",
    "%matplotlib inline\n",
    "# Import matplotlib\n",
    "import matplotlib.pyplot as plt"
   ]
  },
  {
   "cell_type": "code",
   "execution_count": 7,
   "metadata": {},
   "outputs": [],
   "source": [
    "# Import seaborn\n",
    "import seaborn as sns\n",
    "# Settings for seaborn plotting style\n",
    "sns.set(color_codes=True)\n",
    "# Settings for seaborn plot sizes\n",
    "sns.set(rc={'figure.figsize':(6,4)})"
   ]
  },
  {
   "cell_type": "markdown",
   "metadata": {},
   "source": [
    "### The Uniform Distribution\n",
    "\n",
    "We can import uniform distribution from scipy.stats and use it to generate uniform random numbers."
   ]
  },
  {
   "cell_type": "code",
   "execution_count": 8,
   "metadata": {},
   "outputs": [],
   "source": [
    "# Import uniform distribution from scipy\n",
    "from scipy.stats import uniform"
   ]
  },
  {
   "cell_type": "code",
   "execution_count": 9,
   "metadata": {},
   "outputs": [],
   "source": [
    "# Generate random numbers from uniform distribution\n",
    "n = 10000\n",
    "start = 0\n",
    "width = 10\n",
    "data_uniform = uniform.rvs(size=n, loc = start, scale=width)"
   ]
  },
  {
   "cell_type": "code",
   "execution_count": 10,
   "metadata": {},
   "outputs": [
    {
     "name": "stderr",
     "output_type": "stream",
     "text": [
      "/Users/rhennig/opt/anaconda3/envs/tf2/lib/python3.8/site-packages/seaborn/distributions.py:2619: FutureWarning: `distplot` is a deprecated function and will be removed in a future version. Please adapt your code to use either `displot` (a figure-level function with similar flexibility) or `histplot` (an axes-level function for histograms).\n",
      "  warnings.warn(msg, FutureWarning)\n"
     ]
    },
    {
     "data": {
      "text/plain": [
       "[Text(0.5, 0, 'Uniform Distribution '), Text(0, 0.5, 'Frequency')]"
      ]
     },
     "execution_count": 10,
     "metadata": {},
     "output_type": "execute_result"
    },
    {
     "data": {
      "image/png": "[encoded data removed]",
      "text/plain": [
       "<Figure size 432x288 with 1 Axes>"
      ]
     },
     "metadata": {},
     "output_type": "display_data"
    }
   ],
   "source": [
    "# Plot the binned data in blue. The orange line indicates the kernel density estimation (KDE) of the probability function\n",
    "# For more information, see https://en.wikipedia.org/wiki/Kernel_density_estimation\n",
    "ax = sns.distplot(data_uniform,\n",
    "                  bins=40,\n",
    "                  kde=True,\n",
    "                  color='orange',\n",
    "                  hist_kws={'color':'skyblue', 'alpha':1})\n",
    "ax.set(xlabel='Uniform Distribution ', ylabel='Frequency')"
   ]
  },
  {
   "cell_type": "markdown",
   "metadata": {},
   "source": [
    "### The Normal or Gaussian Distribution"
   ]
  },
  {
   "cell_type": "code",
   "execution_count": 11,
   "metadata": {},
   "outputs": [],
   "source": [
    "# import uniform distribution\n",
    "from scipy.stats import norm"
   ]
  },
  {
   "cell_type": "code",
   "execution_count": 12,
   "metadata": {},
   "outputs": [],
   "source": [
    "# generate random numbersfrom N(0,1)\n",
    "data_normal = norm.rvs(size=10000,loc=0,scale=1)"
   ]
  },
  {
   "cell_type": "code",
   "execution_count": 13,
   "metadata": {},
   "outputs": [
    {
     "name": "stderr",
     "output_type": "stream",
     "text": [
      "/Users/rhennig/opt/anaconda3/envs/tf2/lib/python3.8/site-packages/seaborn/distributions.py:2619: FutureWarning: `distplot` is a deprecated function and will be removed in a future version. Please adapt your code to use either `displot` (a figure-level function with similar flexibility) or `histplot` (an axes-level function for histograms).\n",
      "  warnings.warn(msg, FutureWarning)\n"
     ]
    },
    {
     "data": {
      "text/plain": [
       "[Text(0.5, 0, 'Normal'), Text(0, 0.5, 'Frequency')]"
      ]
     },
     "execution_count": 13,
     "metadata": {},
     "output_type": "execute_result"
    },
    {
     "data": {
      "image/png": "[encoded data removed]",
      "text/plain": [
       "<Figure size 432x288 with 1 Axes>"
      ]
     },
     "metadata": {},
     "output_type": "display_data"
    }
   ],
   "source": [
    "ax = sns.distplot(data_normal,\n",
    "                  bins=100,\n",
    "                  kde=True,\n",
    "                  color='orange',\n",
    "                  hist_kws={'color':'skyblue', 'alpha':1})\n",
    "ax.set(xlabel='Normal', ylabel='Frequency')"
   ]
  },
  {
   "cell_type": "markdown",
   "metadata": {},
   "source": [
    "### The Binomial Distribution\n",
    "The binomial distribution with parameters $n$ and $p$ is the discrete probability distribution of the number of successes in a sequence of $n$ independent experiments, each asking a yes/no question. Each question has the probability of $p$ for yes and $1-p$ for no."
   ]
  },
  {
   "cell_type": "code",
   "execution_count": 14,
   "metadata": {},
   "outputs": [],
   "source": [
    "# Import binom\n",
    "from scipy.stats import binom"
   ]
  },
  {
   "cell_type": "code",
   "execution_count": 15,
   "metadata": {},
   "outputs": [],
   "source": [
    "# generate binom\n",
    "data_binom = binom.rvs(n=20,p=0.8,size=10000)\n",
    "ax = sns.distplot(data_binom,\n",
    "                  kde=False,\n",
    "                  color='orange',\n",
    "                  hist_kws={'color':'skyblue', 'alpha':1})\n",
    "ax.set(xlabel='Binomial Distribution', ylabel='Frequency')"
   ]
  },
  {
   "cell_type": "markdown",
   "metadata": {},
   "source": [
    "Since the probability of success was 0.8, which is greater than 0.5 the distribution is skewed towards the right side.\n",
    "\n",
    "Also, the Poisson distribution is a limiting case of a binomial distribution under the following conditions:\n",
    "- The number of trials is infinitely large or $n \\to \\infty$.\n",
    "- The probability of success for each trial is same and infinitely small or $p \\to 0$.\n",
    "- The product $np=\\lambda$ remains finite.\n",
    "\n",
    "The Normal distribution is another limiting form of binomial distribution under the following conditions:\n",
    "- The number of trials is infinitely large, $n \\to \\infty$.\n",
    "- Neither $p$ nor $q$ are infinitely small.\n",
    "\n",
    "**Create plots for the Binomial distribution that illustrates how the pdf changes to one that approaches the Poisson distribution and the normal distribution.**"
   ]
  },
  {
   "cell_type": "markdown",
   "metadata": {},
   "source": [
    "### The Bernoulli Distribution\n",
    "\n",
    "The Bernoulli distribution is named after the Swiss mathematician Jacob Bernoulli. It is the discrete probability distribution of a random variable which takes the value 1 with probability $p$ and the value 0 with probability $q=1-p$. It can be thought of as a model for the set of possible outcomes of any single experiment that asks a yes/no question."
   ]
  },
  {
   "cell_type": "code",
   "execution_count": 16,
   "metadata": {},
   "outputs": [],
   "source": [
    "# Import bernoulli\n",
    "from scipy.stats import bernoulli"
   ]
  },
  {
   "cell_type": "code",
   "execution_count": 17,
   "metadata": {},
   "outputs": [
    {
     "data": {
      "text/plain": [
       "[Text(0.5, 0, 'Bernoulli'), Text(0, 0.5, 'Frequency')]"
      ]
     },
     "execution_count": 17,
     "metadata": {},
     "output_type": "execute_result"
    },
    {
     "data": {
      "image/png": "[encoded data removed]",
      "text/plain": [
       "<Figure size 432x288 with 1 Axes>"
      ]
     },
     "metadata": {},
     "output_type": "display_data"
    }
   ],
   "source": [
    "# generate bernoulli\n",
    "data_bern = bernoulli.rvs(size=10000,p=0.3)\n",
    "ax= sns.distplot(data_bern,\n",
    "                 kde=False,\n",
    "                 color='orange',\n",
    "                 hist_kws={'color':'skyblue', 'alpha':1})\n",
    "ax.set(xlabel='Bernoulli', ylabel='Frequency')"
   ]
  },
  {
   "cell_type": "markdown",
   "metadata": {},
   "source": [
    "### Poisson Distribution\n",
    "\n",
    "The Poisson distribution is named after the French mathematician Siméon Denis Poisson. It is a discrete probability distribution that expresses the probability of a given number of events occurring in a fixed interval of time or space if these events occur with a known constant mean rate and independently of the time since the last event."
   ]
  },
  {
   "cell_type": "code",
   "execution_count": 18,
   "metadata": {},
   "outputs": [],
   "source": [
    "# Import bernoulli\n",
    "from scipy.stats import poisson"
   ]
  },
  {
   "cell_type": "code",
   "execution_count": 19,
   "metadata": {},
   "outputs": [
    {
     "data": {
      "text/plain": [
       "[Text(0.5, 0, 'Poisson'), Text(0, 0.5, 'Frequency')]"
      ]
     },
     "execution_count": 19,
     "metadata": {},
     "output_type": "execute_result"
    },
    {
     "data": {
      "image/png": "[encoded data removed]",
      "text/plain": [
       "<Figure size 432x288 with 1 Axes>"
      ]
     },
     "metadata": {},
     "output_type": "display_data"
    }
   ],
   "source": [
    "data_poisson = poisson.rvs(mu=3, size=10000)\n",
    "ax = sns.distplot(data_poisson,\n",
    "                  kde=False,\n",
    "                  hist_kws={'color':'skyblue', 'alpha':1})\n",
    "ax.set(xlabel='Poisson', ylabel='Frequency')"
   ]
  },
  {
   "cell_type": "code",
   "execution_count": null,
   "metadata": {},
   "outputs": [],
   "source": []
  }
 ],
 "metadata": {
  "colab": {
   "collapsed_sections": [],
   "name": "math_differential_calculus",
   "provenance": [],
   "toc_visible": true
  },
  "kernelspec": {
   "display_name": "Python 3 (ipykernel)",
   "language": "python",
   "name": "python3"
  },
  "language_info": {
   "codemirror_mode": {
    "name": "ipython",
    "version": 3
   },
   "file_extension": ".py",
   "mimetype": "text/x-python",
   "name": "python",
   "nbconvert_exporter": "python",
   "pygments_lexer": "ipython3",
   "version": "3.8.12"
  },
  "pycharm": {
   "stem_cell": {
    "cell_type": "raw",
    "metadata": {
     "collapsed": false
    },
    "source": []
   }
  }
 },
 "nbformat": 4,
 "nbformat_minor": 4
}
